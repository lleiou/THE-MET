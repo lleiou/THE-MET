{
 "cells": [
  {
   "cell_type": "code",
   "execution_count": 81,
   "metadata": {
    "collapsed": true
   },
   "outputs": [],
   "source": [
    "#!/usr/bin/env python\n",
    "# -*- coding: utf-8 -*-\n",
    "\n",
    "# The MET\n",
    "# http://www.metmuseum.org\n",
    "\n",
    "# pandas API Ref:\n",
    "# http://bit.ly/2s4qB0O\n",
    "\n",
    "# ref: Data Cleaning with Python - MoMA's Artwork Collection\n",
    "# http://bit.ly/2sjjdlR\n",
    "\n",
    "# some articles on the same data set:\n",
    "# http://sqlservercode.blogspot.com/2017/02/importing-metropolitan-museum-of-arts.html\n",
    "# https://www.springboard.com/blog/ggplot2-in-r-tutorial/\n",
    "# https://avital.ca/notes/exploring-met-museums-openaccess-dataset\n",
    "\n",
    "# there might be some difficulties downloading the csv file because of its size\n",
    "# for large file,  like the csv file in this problem...\n",
    "# type the following code in termial:\n",
    "# curl -O https://media.githubusercontent.com/media/metmuseum/openaccess/master/MetObjects.csv\n",
    "# then read in the data:\n",
    "# artworks_100 = pandas.read_csv(\"/Users/lleiou/Google Drive/Python/openaccess/MetObjects.csv\")\n",
    "\n",
    "# or you can skip the downloading step by direcly reading the csv file pointed by an url:\n",
    "\n",
    "%matplotlib inline\n",
    "\n",
    "import pandas as pd\n",
    "raw = pd.read_csv(\"https://media.githubusercontent.com/media/metmuseum/openaccess/master/MetObjects.csv\")\n"
   ]
  },
  {
   "cell_type": "code",
   "execution_count": 2,
   "metadata": {},
   "outputs": [
    {
     "data": {
      "text/html": [
       "<div>\n",
       "<table border=\"1\" class=\"dataframe\">\n",
       "  <thead>\n",
       "    <tr style=\"text-align: right;\">\n",
       "      <th></th>\n",
       "      <th>﻿Object Number</th>\n",
       "      <th>Is Highlight</th>\n",
       "      <th>Is Public Domain</th>\n",
       "      <th>Object ID</th>\n",
       "      <th>Department</th>\n",
       "      <th>Object Name</th>\n",
       "      <th>Title</th>\n",
       "      <th>Culture</th>\n",
       "      <th>Period</th>\n",
       "      <th>Dynasty</th>\n",
       "      <th>...</th>\n",
       "      <th>Subregion</th>\n",
       "      <th>Locale</th>\n",
       "      <th>Locus</th>\n",
       "      <th>Excavation</th>\n",
       "      <th>River</th>\n",
       "      <th>Classification</th>\n",
       "      <th>Rights and Reproduction</th>\n",
       "      <th>Link Resource</th>\n",
       "      <th>Metadata Date</th>\n",
       "      <th>Repository</th>\n",
       "    </tr>\n",
       "  </thead>\n",
       "  <tbody>\n",
       "    <tr>\n",
       "      <th>0</th>\n",
       "      <td>1979.486.1</td>\n",
       "      <td>False</td>\n",
       "      <td>False</td>\n",
       "      <td>1</td>\n",
       "      <td>American Decorative Arts</td>\n",
       "      <td>Coin</td>\n",
       "      <td>One-dollar Liberty Head Coin</td>\n",
       "      <td>NaN</td>\n",
       "      <td>NaN</td>\n",
       "      <td>NaN</td>\n",
       "      <td>...</td>\n",
       "      <td>NaN</td>\n",
       "      <td>NaN</td>\n",
       "      <td>NaN</td>\n",
       "      <td>NaN</td>\n",
       "      <td>NaN</td>\n",
       "      <td>Metal</td>\n",
       "      <td>NaN</td>\n",
       "      <td>http://www.metmuseum.org/art/collection/search/1</td>\n",
       "      <td>7/17/2017 8:00:02 AM</td>\n",
       "      <td>Metropolitan Museum of Art, New York, NY</td>\n",
       "    </tr>\n",
       "    <tr>\n",
       "      <th>1</th>\n",
       "      <td>1980.264.5</td>\n",
       "      <td>False</td>\n",
       "      <td>False</td>\n",
       "      <td>2</td>\n",
       "      <td>American Decorative Arts</td>\n",
       "      <td>Coin</td>\n",
       "      <td>Ten-dollar Liberty Head Coin</td>\n",
       "      <td>NaN</td>\n",
       "      <td>NaN</td>\n",
       "      <td>NaN</td>\n",
       "      <td>...</td>\n",
       "      <td>NaN</td>\n",
       "      <td>NaN</td>\n",
       "      <td>NaN</td>\n",
       "      <td>NaN</td>\n",
       "      <td>NaN</td>\n",
       "      <td>Metal</td>\n",
       "      <td>NaN</td>\n",
       "      <td>http://www.metmuseum.org/art/collection/search/2</td>\n",
       "      <td>7/17/2017 8:00:02 AM</td>\n",
       "      <td>Metropolitan Museum of Art, New York, NY</td>\n",
       "    </tr>\n",
       "    <tr>\n",
       "      <th>2</th>\n",
       "      <td>67.265.9</td>\n",
       "      <td>False</td>\n",
       "      <td>False</td>\n",
       "      <td>3</td>\n",
       "      <td>American Decorative Arts</td>\n",
       "      <td>Coin</td>\n",
       "      <td>Two-and-a-Half Dollar Coin</td>\n",
       "      <td>NaN</td>\n",
       "      <td>NaN</td>\n",
       "      <td>NaN</td>\n",
       "      <td>...</td>\n",
       "      <td>NaN</td>\n",
       "      <td>NaN</td>\n",
       "      <td>NaN</td>\n",
       "      <td>NaN</td>\n",
       "      <td>NaN</td>\n",
       "      <td>Metal</td>\n",
       "      <td>NaN</td>\n",
       "      <td>http://www.metmuseum.org/art/collection/search/3</td>\n",
       "      <td>7/17/2017 8:00:02 AM</td>\n",
       "      <td>Metropolitan Museum of Art, New York, NY</td>\n",
       "    </tr>\n",
       "    <tr>\n",
       "      <th>3</th>\n",
       "      <td>67.265.10</td>\n",
       "      <td>False</td>\n",
       "      <td>False</td>\n",
       "      <td>4</td>\n",
       "      <td>American Decorative Arts</td>\n",
       "      <td>Coin</td>\n",
       "      <td>Two-and-a-Half Dollar Coin</td>\n",
       "      <td>NaN</td>\n",
       "      <td>NaN</td>\n",
       "      <td>NaN</td>\n",
       "      <td>...</td>\n",
       "      <td>NaN</td>\n",
       "      <td>NaN</td>\n",
       "      <td>NaN</td>\n",
       "      <td>NaN</td>\n",
       "      <td>NaN</td>\n",
       "      <td>Metal</td>\n",
       "      <td>NaN</td>\n",
       "      <td>http://www.metmuseum.org/art/collection/search/4</td>\n",
       "      <td>7/17/2017 8:00:02 AM</td>\n",
       "      <td>Metropolitan Museum of Art, New York, NY</td>\n",
       "    </tr>\n",
       "    <tr>\n",
       "      <th>4</th>\n",
       "      <td>67.265.11</td>\n",
       "      <td>False</td>\n",
       "      <td>False</td>\n",
       "      <td>5</td>\n",
       "      <td>American Decorative Arts</td>\n",
       "      <td>Coin</td>\n",
       "      <td>Two-and-a-Half Dollar Coin</td>\n",
       "      <td>NaN</td>\n",
       "      <td>NaN</td>\n",
       "      <td>NaN</td>\n",
       "      <td>...</td>\n",
       "      <td>NaN</td>\n",
       "      <td>NaN</td>\n",
       "      <td>NaN</td>\n",
       "      <td>NaN</td>\n",
       "      <td>NaN</td>\n",
       "      <td>Metal</td>\n",
       "      <td>NaN</td>\n",
       "      <td>http://www.metmuseum.org/art/collection/search/5</td>\n",
       "      <td>7/17/2017 8:00:02 AM</td>\n",
       "      <td>Metropolitan Museum of Art, New York, NY</td>\n",
       "    </tr>\n",
       "    <tr>\n",
       "      <th>5</th>\n",
       "      <td>67.265.12</td>\n",
       "      <td>False</td>\n",
       "      <td>False</td>\n",
       "      <td>6</td>\n",
       "      <td>American Decorative Arts</td>\n",
       "      <td>Coin</td>\n",
       "      <td>Two-and-a-Half Dollar Coin</td>\n",
       "      <td>NaN</td>\n",
       "      <td>NaN</td>\n",
       "      <td>NaN</td>\n",
       "      <td>...</td>\n",
       "      <td>NaN</td>\n",
       "      <td>NaN</td>\n",
       "      <td>NaN</td>\n",
       "      <td>NaN</td>\n",
       "      <td>NaN</td>\n",
       "      <td>Metal</td>\n",
       "      <td>NaN</td>\n",
       "      <td>http://www.metmuseum.org/art/collection/search/6</td>\n",
       "      <td>7/17/2017 8:00:02 AM</td>\n",
       "      <td>Metropolitan Museum of Art, New York, NY</td>\n",
       "    </tr>\n",
       "    <tr>\n",
       "      <th>6</th>\n",
       "      <td>67.265.13</td>\n",
       "      <td>False</td>\n",
       "      <td>False</td>\n",
       "      <td>7</td>\n",
       "      <td>American Decorative Arts</td>\n",
       "      <td>Coin</td>\n",
       "      <td>Two-and-a-Half Dollar Coin</td>\n",
       "      <td>NaN</td>\n",
       "      <td>NaN</td>\n",
       "      <td>NaN</td>\n",
       "      <td>...</td>\n",
       "      <td>NaN</td>\n",
       "      <td>NaN</td>\n",
       "      <td>NaN</td>\n",
       "      <td>NaN</td>\n",
       "      <td>NaN</td>\n",
       "      <td>Metal</td>\n",
       "      <td>NaN</td>\n",
       "      <td>http://www.metmuseum.org/art/collection/search/7</td>\n",
       "      <td>7/17/2017 8:00:02 AM</td>\n",
       "      <td>Metropolitan Museum of Art, New York, NY</td>\n",
       "    </tr>\n",
       "    <tr>\n",
       "      <th>7</th>\n",
       "      <td>67.265.14</td>\n",
       "      <td>False</td>\n",
       "      <td>False</td>\n",
       "      <td>8</td>\n",
       "      <td>American Decorative Arts</td>\n",
       "      <td>Coin</td>\n",
       "      <td>Two-and-a-Half Dollar Coin</td>\n",
       "      <td>NaN</td>\n",
       "      <td>NaN</td>\n",
       "      <td>NaN</td>\n",
       "      <td>...</td>\n",
       "      <td>NaN</td>\n",
       "      <td>NaN</td>\n",
       "      <td>NaN</td>\n",
       "      <td>NaN</td>\n",
       "      <td>NaN</td>\n",
       "      <td>Metal</td>\n",
       "      <td>NaN</td>\n",
       "      <td>http://www.metmuseum.org/art/collection/search/8</td>\n",
       "      <td>7/17/2017 8:00:02 AM</td>\n",
       "      <td>Metropolitan Museum of Art, New York, NY</td>\n",
       "    </tr>\n",
       "    <tr>\n",
       "      <th>8</th>\n",
       "      <td>67.265.15</td>\n",
       "      <td>False</td>\n",
       "      <td>False</td>\n",
       "      <td>9</td>\n",
       "      <td>American Decorative Arts</td>\n",
       "      <td>Coin</td>\n",
       "      <td>Two-and-a-Half Dollar Coin</td>\n",
       "      <td>NaN</td>\n",
       "      <td>NaN</td>\n",
       "      <td>NaN</td>\n",
       "      <td>...</td>\n",
       "      <td>NaN</td>\n",
       "      <td>NaN</td>\n",
       "      <td>NaN</td>\n",
       "      <td>NaN</td>\n",
       "      <td>NaN</td>\n",
       "      <td>Metal</td>\n",
       "      <td>NaN</td>\n",
       "      <td>http://www.metmuseum.org/art/collection/search/9</td>\n",
       "      <td>7/17/2017 8:00:02 AM</td>\n",
       "      <td>Metropolitan Museum of Art, New York, NY</td>\n",
       "    </tr>\n",
       "    <tr>\n",
       "      <th>9</th>\n",
       "      <td>1979.486.3</td>\n",
       "      <td>False</td>\n",
       "      <td>False</td>\n",
       "      <td>10</td>\n",
       "      <td>American Decorative Arts</td>\n",
       "      <td>Coin</td>\n",
       "      <td>Two-and-a-half-dollar Indian Head Coin</td>\n",
       "      <td>NaN</td>\n",
       "      <td>NaN</td>\n",
       "      <td>NaN</td>\n",
       "      <td>...</td>\n",
       "      <td>NaN</td>\n",
       "      <td>NaN</td>\n",
       "      <td>NaN</td>\n",
       "      <td>NaN</td>\n",
       "      <td>NaN</td>\n",
       "      <td>Metal</td>\n",
       "      <td>NaN</td>\n",
       "      <td>http://www.metmuseum.org/art/collection/search/10</td>\n",
       "      <td>7/17/2017 8:00:02 AM</td>\n",
       "      <td>Metropolitan Museum of Art, New York, NY</td>\n",
       "    </tr>\n",
       "  </tbody>\n",
       "</table>\n",
       "<p>10 rows × 43 columns</p>\n",
       "</div>"
      ],
      "text/plain": [
       "  ﻿Object Number Is Highlight Is Public Domain  Object ID  \\\n",
       "0     1979.486.1        False            False          1   \n",
       "1     1980.264.5        False            False          2   \n",
       "2       67.265.9        False            False          3   \n",
       "3      67.265.10        False            False          4   \n",
       "4      67.265.11        False            False          5   \n",
       "5      67.265.12        False            False          6   \n",
       "6      67.265.13        False            False          7   \n",
       "7      67.265.14        False            False          8   \n",
       "8      67.265.15        False            False          9   \n",
       "9     1979.486.3        False            False         10   \n",
       "\n",
       "                 Department Object Name  \\\n",
       "0  American Decorative Arts        Coin   \n",
       "1  American Decorative Arts        Coin   \n",
       "2  American Decorative Arts        Coin   \n",
       "3  American Decorative Arts        Coin   \n",
       "4  American Decorative Arts        Coin   \n",
       "5  American Decorative Arts        Coin   \n",
       "6  American Decorative Arts        Coin   \n",
       "7  American Decorative Arts        Coin   \n",
       "8  American Decorative Arts        Coin   \n",
       "9  American Decorative Arts        Coin   \n",
       "\n",
       "                                    Title Culture Period Dynasty  \\\n",
       "0            One-dollar Liberty Head Coin     NaN    NaN     NaN   \n",
       "1            Ten-dollar Liberty Head Coin     NaN    NaN     NaN   \n",
       "2              Two-and-a-Half Dollar Coin     NaN    NaN     NaN   \n",
       "3              Two-and-a-Half Dollar Coin     NaN    NaN     NaN   \n",
       "4              Two-and-a-Half Dollar Coin     NaN    NaN     NaN   \n",
       "5              Two-and-a-Half Dollar Coin     NaN    NaN     NaN   \n",
       "6              Two-and-a-Half Dollar Coin     NaN    NaN     NaN   \n",
       "7              Two-and-a-Half Dollar Coin     NaN    NaN     NaN   \n",
       "8              Two-and-a-Half Dollar Coin     NaN    NaN     NaN   \n",
       "9  Two-and-a-half-dollar Indian Head Coin     NaN    NaN     NaN   \n",
       "\n",
       "                     ...                    Subregion Locale Locus Excavation  \\\n",
       "0                    ...                          NaN    NaN   NaN        NaN   \n",
       "1                    ...                          NaN    NaN   NaN        NaN   \n",
       "2                    ...                          NaN    NaN   NaN        NaN   \n",
       "3                    ...                          NaN    NaN   NaN        NaN   \n",
       "4                    ...                          NaN    NaN   NaN        NaN   \n",
       "5                    ...                          NaN    NaN   NaN        NaN   \n",
       "6                    ...                          NaN    NaN   NaN        NaN   \n",
       "7                    ...                          NaN    NaN   NaN        NaN   \n",
       "8                    ...                          NaN    NaN   NaN        NaN   \n",
       "9                    ...                          NaN    NaN   NaN        NaN   \n",
       "\n",
       "  River Classification Rights and Reproduction  \\\n",
       "0   NaN          Metal                     NaN   \n",
       "1   NaN          Metal                     NaN   \n",
       "2   NaN          Metal                     NaN   \n",
       "3   NaN          Metal                     NaN   \n",
       "4   NaN          Metal                     NaN   \n",
       "5   NaN          Metal                     NaN   \n",
       "6   NaN          Metal                     NaN   \n",
       "7   NaN          Metal                     NaN   \n",
       "8   NaN          Metal                     NaN   \n",
       "9   NaN          Metal                     NaN   \n",
       "\n",
       "                                       Link Resource         Metadata Date  \\\n",
       "0   http://www.metmuseum.org/art/collection/search/1  7/17/2017 8:00:02 AM   \n",
       "1   http://www.metmuseum.org/art/collection/search/2  7/17/2017 8:00:02 AM   \n",
       "2   http://www.metmuseum.org/art/collection/search/3  7/17/2017 8:00:02 AM   \n",
       "3   http://www.metmuseum.org/art/collection/search/4  7/17/2017 8:00:02 AM   \n",
       "4   http://www.metmuseum.org/art/collection/search/5  7/17/2017 8:00:02 AM   \n",
       "5   http://www.metmuseum.org/art/collection/search/6  7/17/2017 8:00:02 AM   \n",
       "6   http://www.metmuseum.org/art/collection/search/7  7/17/2017 8:00:02 AM   \n",
       "7   http://www.metmuseum.org/art/collection/search/8  7/17/2017 8:00:02 AM   \n",
       "8   http://www.metmuseum.org/art/collection/search/9  7/17/2017 8:00:02 AM   \n",
       "9  http://www.metmuseum.org/art/collection/search/10  7/17/2017 8:00:02 AM   \n",
       "\n",
       "                                 Repository  \n",
       "0  Metropolitan Museum of Art, New York, NY  \n",
       "1  Metropolitan Museum of Art, New York, NY  \n",
       "2  Metropolitan Museum of Art, New York, NY  \n",
       "3  Metropolitan Museum of Art, New York, NY  \n",
       "4  Metropolitan Museum of Art, New York, NY  \n",
       "5  Metropolitan Museum of Art, New York, NY  \n",
       "6  Metropolitan Museum of Art, New York, NY  \n",
       "7  Metropolitan Museum of Art, New York, NY  \n",
       "8  Metropolitan Museum of Art, New York, NY  \n",
       "9  Metropolitan Museum of Art, New York, NY  \n",
       "\n",
       "[10 rows x 43 columns]"
      ]
     },
     "execution_count": 2,
     "metadata": {},
     "output_type": "execute_result"
    }
   ],
   "source": [
    "sample = raw.head(10)\n",
    "sample"
   ]
  },
  {
   "cell_type": "code",
   "execution_count": 3,
   "metadata": {
    "scrolled": false
   },
   "outputs": [
    {
     "data": {
      "text/plain": [
       "['\\xef\\xbb\\xbfObject Number',\n",
       " 'Is Highlight',\n",
       " 'Is Public Domain',\n",
       " 'Object ID',\n",
       " 'Department',\n",
       " 'Object Name',\n",
       " 'Title',\n",
       " 'Culture',\n",
       " 'Period',\n",
       " 'Dynasty',\n",
       " 'Reign',\n",
       " 'Portfolio',\n",
       " 'Artist Role',\n",
       " 'Artist Prefix',\n",
       " 'Artist Display Name',\n",
       " 'Artist Display Bio',\n",
       " 'Artist Suffix',\n",
       " 'Artist Alpha Sort',\n",
       " 'Artist Nationality',\n",
       " 'Artist Begin Date',\n",
       " 'Artist End Date',\n",
       " 'Object Date',\n",
       " 'Object Begin Date',\n",
       " 'Object End Date',\n",
       " 'Medium',\n",
       " 'Dimensions',\n",
       " 'Credit Line',\n",
       " 'Geography Type',\n",
       " 'City',\n",
       " 'State',\n",
       " 'County',\n",
       " 'Country',\n",
       " 'Region',\n",
       " 'Subregion',\n",
       " 'Locale',\n",
       " 'Locus',\n",
       " 'Excavation',\n",
       " 'River',\n",
       " 'Classification',\n",
       " 'Rights and Reproduction',\n",
       " 'Link Resource',\n",
       " 'Metadata Date',\n",
       " 'Repository']"
      ]
     },
     "execution_count": 3,
     "metadata": {},
     "output_type": "execute_result"
    }
   ],
   "source": [
    "# overview of the data:\n",
    "list(raw)"
   ]
  },
  {
   "cell_type": "code",
   "execution_count": 4,
   "metadata": {},
   "outputs": [
    {
     "data": {
      "text/plain": [
       "(453469, 43)"
      ]
     },
     "execution_count": 4,
     "metadata": {},
     "output_type": "execute_result"
    }
   ],
   "source": [
    "# check the dimension of the data set\n",
    "raw.shape"
   ]
  },
  {
   "cell_type": "code",
   "execution_count": 315,
   "metadata": {},
   "outputs": [
    {
     "data": {
      "text/plain": [
       "American                      22585\n",
       "French                        18220\n",
       "Japan                         16493\n",
       "China                         13851\n",
       "Italian                        6582\n",
       "Japanese                       6050\n",
       "British                        5316\n",
       "Roman                          4804\n",
       "German                         4730\n",
       "Cypriot                        2921\n",
       "European                       2837\n",
       "American or European           2162\n",
       "Coptic                         1673\n",
       "Spanish                        1655\n",
       "Greek, Attic                   1611\n",
       "French, Paris                  1578\n",
       "British, London                1366\n",
       "Greek                          1286\n",
       "Chinese                        1247\n",
       "Iran                           1088\n",
       "Etruscan                        956\n",
       "Dutch                           944\n",
       "Sasanian                        917\n",
       "Indian                          907\n",
       "Mexican                         886\n",
       "German, Meissen                 829\n",
       "Frankish                        758\n",
       "Russian                         752\n",
       "Italian, Venice                 735\n",
       "Indonesia (Java)                700\n",
       "Minoan                          663\n",
       "Korea                           628\n",
       "British, Staffordshire          624\n",
       "Asmat people                    620\n",
       "French, Sèvres                  608\n",
       "Austrian                        585\n",
       "probably French                 582\n",
       "Flemish                         548\n",
       "European or Middle Eastern      541\n",
       "probably American               538\n",
       "Name: Culture, dtype: int64"
      ]
     },
     "execution_count": 315,
     "metadata": {},
     "output_type": "execute_result"
    }
   ],
   "source": [
    "# check the unique values of each variable:\n",
    "raw[\"Culture\"].value_counts().head(40)"
   ]
  },
  {
   "cell_type": "code",
   "execution_count": 312,
   "metadata": {
    "collapsed": true
   },
   "outputs": [],
   "source": [
    "# need to use a mapping to convert \"China\" into \"Chinese\" and so on!\n",
    "def mapping(x):\n",
    "    if x == \"Japan\":\n",
    "        return \"Japanese\"\n",
    "    elif x == \"China\":\n",
    "        return \"Chinese\"\n",
    "    elif x == \"American\":\n",
    "        return \"Chinese\"\n",
    "    else:\n",
    "        return x"
   ]
  },
  {
   "cell_type": "code",
   "execution_count": 324,
   "metadata": {
    "collapsed": true
   },
   "outputs": [],
   "source": [
    "raw.Culture = raw.Culture.map(mapping)"
   ]
  },
  {
   "cell_type": "code",
   "execution_count": 11,
   "metadata": {},
   "outputs": [
    {
     "data": {
      "text/plain": [
       "Print                   90333\n",
       "Photograph              28883\n",
       "Drawing                 25032\n",
       "Book                    13441\n",
       "Fragment                 9397\n",
       "Piece                    8634\n",
       "Negative                 6258\n",
       "Painting                 5904\n",
       "Baseball card, print     5208\n",
       "Bowl                     3535\n",
       "Name: Object Name, dtype: int64"
      ]
     },
     "execution_count": 11,
     "metadata": {},
     "output_type": "execute_result"
    }
   ],
   "source": [
    "# check the unique values of each variable:\n",
    "raw[\"Object Name\"].value_counts().head(10)"
   ]
  },
  {
   "cell_type": "code",
   "execution_count": 10,
   "metadata": {},
   "outputs": [
    {
     "data": {
      "text/plain": [
       "Upper Egypt, Thebes     11140\n",
       "Memphite Region          4676\n",
       "Mesopotamia              1993\n",
       "Iran                     1713\n",
       "Mesoamerica              1280\n",
       "Middle Egypt             1277\n",
       "Northern Upper Egypt      786\n",
       "Eastern Delta             555\n",
       "Syria                     300\n",
       "Levant                    284\n",
       "Name: Region, dtype: int64"
      ]
     },
     "execution_count": 10,
     "metadata": {},
     "output_type": "execute_result"
    }
   ],
   "source": [
    "# check the unique values of each variable:\n",
    "raw[\"Region\"].value_counts().head(10)"
   ]
  },
  {
   "cell_type": "code",
   "execution_count": 79,
   "metadata": {},
   "outputs": [
    {
     "data": {
      "text/plain": [
       "378947"
      ]
     },
     "execution_count": 79,
     "metadata": {},
     "output_type": "execute_result"
    }
   ],
   "source": [
    "# check the unique values of each variable:\n",
    "raw[\"Country\"].value_counts().head(10)"
   ]
  },
  {
   "cell_type": "code",
   "execution_count": 13,
   "metadata": {
    "scrolled": false
   },
   "outputs": [
    {
     "data": {
      "text/plain": [
       "Upper Sepik River                     361\n",
       "Balsas River region                   174\n",
       "Middle Sepik River                    129\n",
       "Sankuru River region                   94\n",
       "Pomatsj River                          54\n",
       "Unir (Undir) River                     53\n",
       "Pomatsj River (northern tributary)     51\n",
       "Rio Grande de Nasca                    47\n",
       "Inland Niger Delta region              47\n",
       "Hudson Bay                             45\n",
       "Name: River, dtype: int64"
      ]
     },
     "execution_count": 13,
     "metadata": {},
     "output_type": "execute_result"
    }
   ],
   "source": [
    "# check the unique values of each variable:\n",
    "raw[\"River\"].value_counts().head(10)"
   ]
  },
  {
   "cell_type": "code",
   "execution_count": 14,
   "metadata": {},
   "outputs": [
    {
     "data": {
      "text/plain": [
       "Ceramics                                          662\n",
       "Natural Substances                                 24\n",
       "Works on Paper                                     21\n",
       "Aerophone-Whistle Flute-whistle                    15\n",
       "Idiophone-Struck-bell-without clapper              14\n",
       "Chordophone-Lute-bowed-unfretted                   12\n",
       "Idiophone-Concussion                               10\n",
       "Aerophone-Lip Vibrated-trumpet / trombone          10\n",
       "Aerophone-Blow Hole-end-blown flute (vertical)      9\n",
       "Idiophone-Struck-gong                               9\n",
       "Name: Classification, dtype: int64"
      ]
     },
     "execution_count": 14,
     "metadata": {},
     "output_type": "execute_result"
    }
   ],
   "source": [
    "raw[data.Country==\"China\"].Classification.value_counts().head(10)"
   ]
  },
  {
   "cell_type": "code",
   "execution_count": 9,
   "metadata": {},
   "outputs": [
    {
     "data": {
      "text/plain": [
       "Metropolitan Museum of Art, New York, NY    452672\n",
       "Name: Repository, dtype: int64"
      ]
     },
     "execution_count": 9,
     "metadata": {},
     "output_type": "execute_result"
    }
   ],
   "source": [
    "# check the unique values of each variable:\n",
    "raw[\"Repository\"].value_counts()\n",
    "# so all 452672 items are from Metropolitan Museum of Art, New York, NY \n",
    "# (what about The MET Breuer and The MET Cloisters)"
   ]
  },
  {
   "cell_type": "code",
   "execution_count": 16,
   "metadata": {},
   "outputs": [
    {
     "data": {
      "text/plain": [
       "<matplotlib.axes._subplots.AxesSubplot at 0x10fc36890>"
      ]
     },
     "execution_count": 16,
     "metadata": {},
     "output_type": "execute_result"
    },
    {
     "data": {
      "image/png": "[encoded data removed]",
      "text/plain": [
       "<matplotlib.figure.Figure at 0x10fbaec90>"
      ]
     },
     "metadata": {},
     "output_type": "display_data"
    }
   ],
   "source": [
    "from collections import Counter\n",
    "import matplotlib.pyplot as plt\n",
    "river_counts = Counter(raw.loc[10000:20000,\"Country\"])\n",
    "df = pd.DataFrame.from_dict(river_counts, orient='index')\n",
    "df.plot(kind='bar')\n",
    "# https://stackoverflow.com/a/28419258/5861873\n",
    "# why it is that hard to draw a frequency plot...\n",
    "# the data set is sooo huge that I cannot even draw a histogram in a short period of time"
   ]
  },
  {
   "cell_type": "code",
   "execution_count": 15,
   "metadata": {},
   "outputs": [
    {
     "name": "stdout",
     "output_type": "stream",
     "text": [
      "<class 'pandas.core.frame.DataFrame'>\n",
      "RangeIndex: 453469 entries, 0 to 453468\n",
      "Data columns (total 43 columns):\n",
      "﻿Object Number             453469 non-null object\n",
      "Is Highlight               453469 non-null bool\n",
      "Is Public Domain           453469 non-null bool\n",
      "Object ID                  453469 non-null int64\n",
      "Department                 453469 non-null object\n",
      "Object Name                450561 non-null object\n",
      "Title                      422303 non-null object\n",
      "Culture                    187209 non-null object\n",
      "Period                     72103 non-null object\n",
      "Dynasty                    23021 non-null object\n",
      "Reign                      10821 non-null object\n",
      "Portfolio                  21099 non-null object\n",
      "Artist Role                265012 non-null object\n",
      "Artist Prefix              89778 non-null object\n",
      "Artist Display Name        266214 non-null object\n",
      "Artist Display Bio         227662 non-null object\n",
      "Artist Suffix              10298 non-null object\n",
      "Artist Alpha Sort          266190 non-null object\n",
      "Artist Nationality         195039 non-null object\n",
      "Artist Begin Date          224433 non-null object\n",
      "Artist End Date            221824 non-null object\n",
      "Object Date                437980 non-null object\n",
      "Object Begin Date          453469 non-null int64\n",
      "Object End Date            453469 non-null int64\n",
      "Medium                     445388 non-null object\n",
      "Dimensions                 390282 non-null object\n",
      "Credit Line                452687 non-null object\n",
      "Geography Type             58530 non-null object\n",
      "City                       30709 non-null object\n",
      "State                      2494 non-null object\n",
      "County                     8402 non-null object\n",
      "Country                    74522 non-null object\n",
      "Region                     31101 non-null object\n",
      "Subregion                  21721 non-null object\n",
      "Locale                     15119 non-null object\n",
      "Locus                      6914 non-null object\n",
      "Excavation                 15529 non-null object\n",
      "River                      2103 non-null object\n",
      "Classification             394727 non-null object\n",
      "Rights and Reproduction    23593 non-null object\n",
      "Link Resource              453469 non-null object\n",
      "Metadata Date              453469 non-null object\n",
      "Repository                 453469 non-null object\n",
      "dtypes: bool(2), int64(3), object(38)\n",
      "memory usage: 142.7+ MB\n"
     ]
    }
   ],
   "source": [
    "raw.info()"
   ]
  },
  {
   "cell_type": "code",
   "execution_count": 17,
   "metadata": {
    "collapsed": true
   },
   "outputs": [],
   "source": [
    "#replace all the NA with \"unknown\"\n",
    "data.fillna(\"unknown\",inplace=True)"
   ]
  },
  {
   "cell_type": "code",
   "execution_count": 18,
   "metadata": {},
   "outputs": [
    {
     "data": {
      "text/plain": [
       "unknown                                           378947\n",
       "Egypt                                              30917\n",
       "United States                                       8506\n",
       "Iran                                                5888\n",
       "Peru                                                3414\n",
       "France                                              1701\n",
       "Byzantine Egypt                                     1673\n",
       "Mexico                                              1537\n",
       "India                                               1440\n",
       "Indonesia                                           1394\n",
       "England                                             1056\n",
       "China                                                918\n",
       "Germany                                              891\n",
       "Papua New Guinea                                     851\n",
       "Turkey                                               826\n",
       "Nigeria                                              637\n",
       "Italy                                                543\n",
       "Democratic Republic of the Congo                     519\n",
       "Syria                                                479\n",
       "Spain                                                421\n",
       "Iraq                                                 397\n",
       "Canada                                               393\n",
       "Mali                                                 353\n",
       "Colombia                                             336\n",
       "Côte d'Ivoire                                        302\n",
       "Egypt or Syria                                       300\n",
       "America                                              278\n",
       "Cameroon                                             250\n",
       "Japan                                                237\n",
       "Iran|Iran                                            221\n",
       "                                                   ...  \n",
       "China|Mexico                                           1\n",
       "Democratic Republic of the Congo or Angola?            1\n",
       "present-day Afghanistan or Central Asia                1\n",
       "Probably Gaul                                          1\n",
       "Nigeria or Republic of Benin                           1\n",
       "present-day Uzbekistan|present-day Afghanistan         1\n",
       "Byzantium [enamels]|France                             1\n",
       "excavated ‘Ayn as-Sawda (Azraq al Shishan)             1\n",
       "central Europe                                         1\n",
       "Probably Caesarea                                      1\n",
       "Friesland                                              1\n",
       "Lisez et propagez nos Annales: \"L'Immacul‚e\"           1\n",
       "Germany or Poland                                      1\n",
       "possibly Iran or Egypt                                 1\n",
       "Uganda or Democratic Republic of Congo                 1\n",
       "Jordan                                                 1\n",
       "Probably Burkina Faso                                  1\n",
       "Israel|Israel                                          1\n",
       "Syria, Raqqa                                           1\n",
       "Possibly Sarawak                                       1\n",
       "Northeastern France                                    1\n",
       "Egypt, the Fayyum, probably Tutun                      1\n",
       "Germany (present-day France)                           1\n",
       "Egypt, Bulgaria or Turkey?                             1\n",
       "Bulgaria or Romania                                    1\n",
       "Bosnia (former Yugoslavia)                             1\n",
       "Nicomedia                                              1\n",
       "Gabon?                                                 1\n",
       "Sulawesi                                               1\n",
       "Uganda?                                                1\n",
       "Name: Country, dtype: int64"
      ]
     },
     "execution_count": 18,
     "metadata": {},
     "output_type": "execute_result"
    }
   ],
   "source": [
    "data.Country.value_counts()"
   ]
  },
  {
   "cell_type": "code",
   "execution_count": 21,
   "metadata": {},
   "outputs": [
    {
     "data": {
      "text/html": [
       "<div>\n",
       "<table border=\"1\" class=\"dataframe\">\n",
       "  <thead>\n",
       "    <tr style=\"text-align: right;\">\n",
       "      <th></th>\n",
       "      <th>﻿Object Number</th>\n",
       "      <th>Is Highlight</th>\n",
       "      <th>Is Public Domain</th>\n",
       "      <th>Object ID</th>\n",
       "      <th>Department</th>\n",
       "      <th>Object Name</th>\n",
       "      <th>Title</th>\n",
       "      <th>Culture</th>\n",
       "      <th>Period</th>\n",
       "      <th>Dynasty</th>\n",
       "      <th>...</th>\n",
       "      <th>Subregion</th>\n",
       "      <th>Locale</th>\n",
       "      <th>Locus</th>\n",
       "      <th>Excavation</th>\n",
       "      <th>River</th>\n",
       "      <th>Classification</th>\n",
       "      <th>Rights and Reproduction</th>\n",
       "      <th>Link Resource</th>\n",
       "      <th>Metadata Date</th>\n",
       "      <th>Repository</th>\n",
       "    </tr>\n",
       "  </thead>\n",
       "  <tbody>\n",
       "    <tr>\n",
       "      <th>0</th>\n",
       "      <td>1979.486.1</td>\n",
       "      <td>False</td>\n",
       "      <td>False</td>\n",
       "      <td>1</td>\n",
       "      <td>American Decorative Arts</td>\n",
       "      <td>Coin</td>\n",
       "      <td>One-dollar Liberty Head Coin</td>\n",
       "      <td>unknown</td>\n",
       "      <td>unknown</td>\n",
       "      <td>unknown</td>\n",
       "      <td>...</td>\n",
       "      <td>unknown</td>\n",
       "      <td>unknown</td>\n",
       "      <td>unknown</td>\n",
       "      <td>unknown</td>\n",
       "      <td>unknown</td>\n",
       "      <td>Metal</td>\n",
       "      <td>unknown</td>\n",
       "      <td>http://www.metmuseum.org/art/collection/search/1</td>\n",
       "      <td>7/17/2017 8:00:02 AM</td>\n",
       "      <td>Metropolitan Museum of Art, New York, NY</td>\n",
       "    </tr>\n",
       "    <tr>\n",
       "      <th>1</th>\n",
       "      <td>1980.264.5</td>\n",
       "      <td>False</td>\n",
       "      <td>False</td>\n",
       "      <td>2</td>\n",
       "      <td>American Decorative Arts</td>\n",
       "      <td>Coin</td>\n",
       "      <td>Ten-dollar Liberty Head Coin</td>\n",
       "      <td>unknown</td>\n",
       "      <td>unknown</td>\n",
       "      <td>unknown</td>\n",
       "      <td>...</td>\n",
       "      <td>unknown</td>\n",
       "      <td>unknown</td>\n",
       "      <td>unknown</td>\n",
       "      <td>unknown</td>\n",
       "      <td>unknown</td>\n",
       "      <td>Metal</td>\n",
       "      <td>unknown</td>\n",
       "      <td>http://www.metmuseum.org/art/collection/search/2</td>\n",
       "      <td>7/17/2017 8:00:02 AM</td>\n",
       "      <td>Metropolitan Museum of Art, New York, NY</td>\n",
       "    </tr>\n",
       "    <tr>\n",
       "      <th>2</th>\n",
       "      <td>67.265.9</td>\n",
       "      <td>False</td>\n",
       "      <td>False</td>\n",
       "      <td>3</td>\n",
       "      <td>American Decorative Arts</td>\n",
       "      <td>Coin</td>\n",
       "      <td>Two-and-a-Half Dollar Coin</td>\n",
       "      <td>unknown</td>\n",
       "      <td>unknown</td>\n",
       "      <td>unknown</td>\n",
       "      <td>...</td>\n",
       "      <td>unknown</td>\n",
       "      <td>unknown</td>\n",
       "      <td>unknown</td>\n",
       "      <td>unknown</td>\n",
       "      <td>unknown</td>\n",
       "      <td>Metal</td>\n",
       "      <td>unknown</td>\n",
       "      <td>http://www.metmuseum.org/art/collection/search/3</td>\n",
       "      <td>7/17/2017 8:00:02 AM</td>\n",
       "      <td>Metropolitan Museum of Art, New York, NY</td>\n",
       "    </tr>\n",
       "    <tr>\n",
       "      <th>3</th>\n",
       "      <td>67.265.10</td>\n",
       "      <td>False</td>\n",
       "      <td>False</td>\n",
       "      <td>4</td>\n",
       "      <td>American Decorative Arts</td>\n",
       "      <td>Coin</td>\n",
       "      <td>Two-and-a-Half Dollar Coin</td>\n",
       "      <td>unknown</td>\n",
       "      <td>unknown</td>\n",
       "      <td>unknown</td>\n",
       "      <td>...</td>\n",
       "      <td>unknown</td>\n",
       "      <td>unknown</td>\n",
       "      <td>unknown</td>\n",
       "      <td>unknown</td>\n",
       "      <td>unknown</td>\n",
       "      <td>Metal</td>\n",
       "      <td>unknown</td>\n",
       "      <td>http://www.metmuseum.org/art/collection/search/4</td>\n",
       "      <td>7/17/2017 8:00:02 AM</td>\n",
       "      <td>Metropolitan Museum of Art, New York, NY</td>\n",
       "    </tr>\n",
       "    <tr>\n",
       "      <th>4</th>\n",
       "      <td>67.265.11</td>\n",
       "      <td>False</td>\n",
       "      <td>False</td>\n",
       "      <td>5</td>\n",
       "      <td>American Decorative Arts</td>\n",
       "      <td>Coin</td>\n",
       "      <td>Two-and-a-Half Dollar Coin</td>\n",
       "      <td>unknown</td>\n",
       "      <td>unknown</td>\n",
       "      <td>unknown</td>\n",
       "      <td>...</td>\n",
       "      <td>unknown</td>\n",
       "      <td>unknown</td>\n",
       "      <td>unknown</td>\n",
       "      <td>unknown</td>\n",
       "      <td>unknown</td>\n",
       "      <td>Metal</td>\n",
       "      <td>unknown</td>\n",
       "      <td>http://www.metmuseum.org/art/collection/search/5</td>\n",
       "      <td>7/17/2017 8:00:02 AM</td>\n",
       "      <td>Metropolitan Museum of Art, New York, NY</td>\n",
       "    </tr>\n",
       "  </tbody>\n",
       "</table>\n",
       "<p>5 rows × 43 columns</p>\n",
       "</div>"
      ],
      "text/plain": [
       "  ﻿Object Number Is Highlight Is Public Domain  Object ID  \\\n",
       "0     1979.486.1        False            False          1   \n",
       "1     1980.264.5        False            False          2   \n",
       "2       67.265.9        False            False          3   \n",
       "3      67.265.10        False            False          4   \n",
       "4      67.265.11        False            False          5   \n",
       "\n",
       "                 Department Object Name                         Title  \\\n",
       "0  American Decorative Arts        Coin  One-dollar Liberty Head Coin   \n",
       "1  American Decorative Arts        Coin  Ten-dollar Liberty Head Coin   \n",
       "2  American Decorative Arts        Coin    Two-and-a-Half Dollar Coin   \n",
       "3  American Decorative Arts        Coin    Two-and-a-Half Dollar Coin   \n",
       "4  American Decorative Arts        Coin    Two-and-a-Half Dollar Coin   \n",
       "\n",
       "   Culture   Period  Dynasty                    ...                     \\\n",
       "0  unknown  unknown  unknown                    ...                      \n",
       "1  unknown  unknown  unknown                    ...                      \n",
       "2  unknown  unknown  unknown                    ...                      \n",
       "3  unknown  unknown  unknown                    ...                      \n",
       "4  unknown  unknown  unknown                    ...                      \n",
       "\n",
       "  Subregion   Locale    Locus Excavation    River Classification  \\\n",
       "0   unknown  unknown  unknown    unknown  unknown          Metal   \n",
       "1   unknown  unknown  unknown    unknown  unknown          Metal   \n",
       "2   unknown  unknown  unknown    unknown  unknown          Metal   \n",
       "3   unknown  unknown  unknown    unknown  unknown          Metal   \n",
       "4   unknown  unknown  unknown    unknown  unknown          Metal   \n",
       "\n",
       "  Rights and Reproduction                                     Link Resource  \\\n",
       "0                 unknown  http://www.metmuseum.org/art/collection/search/1   \n",
       "1                 unknown  http://www.metmuseum.org/art/collection/search/2   \n",
       "2                 unknown  http://www.metmuseum.org/art/collection/search/3   \n",
       "3                 unknown  http://www.metmuseum.org/art/collection/search/4   \n",
       "4                 unknown  http://www.metmuseum.org/art/collection/search/5   \n",
       "\n",
       "          Metadata Date                                Repository  \n",
       "0  7/17/2017 8:00:02 AM  Metropolitan Museum of Art, New York, NY  \n",
       "1  7/17/2017 8:00:02 AM  Metropolitan Museum of Art, New York, NY  \n",
       "2  7/17/2017 8:00:02 AM  Metropolitan Museum of Art, New York, NY  \n",
       "3  7/17/2017 8:00:02 AM  Metropolitan Museum of Art, New York, NY  \n",
       "4  7/17/2017 8:00:02 AM  Metropolitan Museum of Art, New York, NY  \n",
       "\n",
       "[5 rows x 43 columns]"
      ]
     },
     "execution_count": 21,
     "metadata": {},
     "output_type": "execute_result"
    }
   ],
   "source": [
    "# we can get a subset that contains only the variables that we need:\n",
    "cao = data.iloc[:,]\n",
    "cao.head(5)"
   ]
  },
  {
   "cell_type": "code",
   "execution_count": 22,
   "metadata": {},
   "outputs": [
    {
     "data": {
      "text/plain": [
       "0     1\n",
       "1     2\n",
       "2     3\n",
       "3     4\n",
       "4     5\n",
       "5     6\n",
       "6     7\n",
       "7     8\n",
       "8     9\n",
       "9    10\n",
       "Name: Object ID, dtype: int64"
      ]
     },
     "execution_count": 22,
     "metadata": {},
     "output_type": "execute_result"
    }
   ],
   "source": [
    "data[\"Object ID\"].head(10)"
   ]
  },
  {
   "cell_type": "code",
   "execution_count": 23,
   "metadata": {},
   "outputs": [
    {
     "data": {
      "text/plain": [
       "0    James Barton Longacre\n",
       "1       Christian Gobrecht\n",
       "2                  unknown\n",
       "3                  unknown\n",
       "4                  unknown\n",
       "5                  unknown\n",
       "6                  unknown\n",
       "7                  unknown\n",
       "8                  unknown\n",
       "9          Bela Lyon Pratt\n",
       "Name: Artist Display Name, dtype: object"
      ]
     },
     "execution_count": 23,
     "metadata": {},
     "output_type": "execute_result"
    }
   ],
   "source": [
    "data['Artist Display Name'].head(10)"
   ]
  },
  {
   "cell_type": "code",
   "execution_count": 24,
   "metadata": {},
   "outputs": [
    {
     "data": {
      "text/plain": [
       "'http://www.metmuseum.org/art/collection/search/1'"
      ]
     },
     "execution_count": 24,
     "metadata": {},
     "output_type": "execute_result"
    }
   ],
   "source": [
    "data[\"Link Resource\"][0]"
   ]
  },
  {
   "cell_type": "code",
   "execution_count": 25,
   "metadata": {
    "collapsed": true
   },
   "outputs": [],
   "source": [
    "# which country has the most number of unknown artist\n",
    "number_of_unknown = data[data['Artist Display Name']==\"unknown\"].Country.value_counts()"
   ]
  },
  {
   "cell_type": "code",
   "execution_count": 26,
   "metadata": {},
   "outputs": [
    {
     "data": {
      "text/plain": [
       "Country\n",
       "Afghanistan                            52\n",
       "Afghanistan or Eastern Iran             1\n",
       "Afghanistan or Iran                     1\n",
       "Afghanistan or Iran|Khurasan            1\n",
       "Afghanistan or Northeastern Iran        2\n",
       "Afghanistan or Turkmenistan             2\n",
       "Afghanistan|Afghanistan                 2\n",
       "Afghanistan|present-day Afghanistan     2\n",
       "Africa                                  8\n",
       "Alamania                                3\n",
       "Name: Country, dtype: int64"
      ]
     },
     "execution_count": 26,
     "metadata": {},
     "output_type": "execute_result"
    }
   ],
   "source": [
    "# total number of art works for each country\n",
    "data.groupby(['Country'])['Country'].count().head(10)\n",
    "# this is just the same as \n",
    "# data.Country.value_counts()"
   ]
  },
  {
   "cell_type": "code",
   "execution_count": 27,
   "metadata": {
    "collapsed": true
   },
   "outputs": [],
   "source": [
    "# for china, only 22 works are not done by unknown artists.."
   ]
  },
  {
   "cell_type": "code",
   "execution_count": 28,
   "metadata": {},
   "outputs": [
    {
     "data": {
      "text/plain": [
       "unknown                             378947\n",
       "Egypt                                30917\n",
       "United States                         8506\n",
       "Iran                                  5888\n",
       "Peru                                  3414\n",
       "France                                1701\n",
       "Byzantine Egypt                       1673\n",
       "Mexico                                1537\n",
       "India                                 1440\n",
       "Indonesia                             1394\n",
       "England                               1056\n",
       "China                                  918\n",
       "Germany                                891\n",
       "Papua New Guinea                       851\n",
       "Turkey                                 826\n",
       "Nigeria                                637\n",
       "Italy                                  543\n",
       "Democratic Republic of the Congo       519\n",
       "Syria                                  479\n",
       "Spain                                  421\n",
       "Iraq                                   397\n",
       "Canada                                 393\n",
       "Mali                                   353\n",
       "Colombia                               336\n",
       "Côte d'Ivoire                          302\n",
       "Egypt or Syria                         300\n",
       "America                                278\n",
       "Cameroon                               250\n",
       "Japan                                  237\n",
       "Iran|Iran                              221\n",
       "Name: Country, dtype: int64"
      ]
     },
     "execution_count": 28,
     "metadata": {},
     "output_type": "execute_result"
    }
   ],
   "source": [
    "data.Country.value_counts()[:30]"
   ]
  },
  {
   "cell_type": "code",
   "execution_count": 187,
   "metadata": {},
   "outputs": [
    {
     "data": {
      "text/plain": [
       "River              Country         \n",
       "Ajip River         Indonesia           1\n",
       "Ajip River region  Indonesia           5\n",
       "Amazon River       Brazil              2\n",
       "Aramia River       Papua New Guinea    3\n",
       "Asewetsj River     Indonesia           3\n",
       "Name: Country, dtype: int64"
      ]
     },
     "execution_count": 187,
     "metadata": {},
     "output_type": "execute_result"
    }
   ],
   "source": [
    "data.groupby([\"River\",\"Country\"])[\"Country\"].count().head(5)"
   ]
  },
  {
   "cell_type": "code",
   "execution_count": 188,
   "metadata": {},
   "outputs": [
    {
     "data": {
      "text/html": [
       "<div>\n",
       "<table border=\"1\" class=\"dataframe\">\n",
       "  <thead>\n",
       "    <tr style=\"text-align: right;\">\n",
       "      <th></th>\n",
       "      <th>Country</th>\n",
       "      <th>River</th>\n",
       "    </tr>\n",
       "  </thead>\n",
       "  <tbody>\n",
       "    <tr>\n",
       "      <th>0</th>\n",
       "      <td>unknown</td>\n",
       "      <td>unknown</td>\n",
       "    </tr>\n",
       "    <tr>\n",
       "      <th>1</th>\n",
       "      <td>unknown</td>\n",
       "      <td>unknown</td>\n",
       "    </tr>\n",
       "    <tr>\n",
       "      <th>2</th>\n",
       "      <td>unknown</td>\n",
       "      <td>unknown</td>\n",
       "    </tr>\n",
       "    <tr>\n",
       "      <th>3</th>\n",
       "      <td>unknown</td>\n",
       "      <td>unknown</td>\n",
       "    </tr>\n",
       "    <tr>\n",
       "      <th>4</th>\n",
       "      <td>unknown</td>\n",
       "      <td>unknown</td>\n",
       "    </tr>\n",
       "  </tbody>\n",
       "</table>\n",
       "</div>"
      ],
      "text/plain": [
       "   Country    River\n",
       "0  unknown  unknown\n",
       "1  unknown  unknown\n",
       "2  unknown  unknown\n",
       "3  unknown  unknown\n",
       "4  unknown  unknown"
      ]
     },
     "execution_count": 188,
     "metadata": {},
     "output_type": "execute_result"
    }
   ],
   "source": [
    "data.loc[:,[\"Country\",\"River\"]].head(5)"
   ]
  },
  {
   "cell_type": "code",
   "execution_count": 62,
   "metadata": {},
   "outputs": [
    {
     "data": {
      "text/plain": [
       "12"
      ]
     },
     "execution_count": 62,
     "metadata": {},
     "output_type": "execute_result"
    }
   ],
   "source": [
    "river_counts[\"Lake Sentani\"]"
   ]
  },
  {
   "cell_type": "code",
   "execution_count": null,
   "metadata": {
    "collapsed": true
   },
   "outputs": [],
   "source": []
  },
  {
   "cell_type": "code",
   "execution_count": null,
   "metadata": {
    "collapsed": true
   },
   "outputs": [],
   "source": []
  },
  {
   "cell_type": "code",
   "execution_count": null,
   "metadata": {
    "collapsed": true
   },
   "outputs": [],
   "source": []
  },
  {
   "cell_type": "markdown",
   "metadata": {},
   "source": [
    "# Visualization on Cultures and Classifications"
   ]
  },
  {
   "cell_type": "code",
   "execution_count": 247,
   "metadata": {},
   "outputs": [
    {
     "data": {
      "text/html": [
       "<div>\n",
       "<table border=\"1\" class=\"dataframe\">\n",
       "  <thead>\n",
       "    <tr style=\"text-align: right;\">\n",
       "      <th></th>\n",
       "      <th>index</th>\n",
       "      <th>Culture</th>\n",
       "    </tr>\n",
       "  </thead>\n",
       "  <tbody>\n",
       "    <tr>\n",
       "      <th>0</th>\n",
       "      <td>American</td>\n",
       "      <td>22585</td>\n",
       "    </tr>\n",
       "    <tr>\n",
       "      <th>1</th>\n",
       "      <td>French</td>\n",
       "      <td>18220</td>\n",
       "    </tr>\n",
       "    <tr>\n",
       "      <th>2</th>\n",
       "      <td>Japan</td>\n",
       "      <td>16493</td>\n",
       "    </tr>\n",
       "    <tr>\n",
       "      <th>3</th>\n",
       "      <td>China</td>\n",
       "      <td>13851</td>\n",
       "    </tr>\n",
       "    <tr>\n",
       "      <th>4</th>\n",
       "      <td>Italian</td>\n",
       "      <td>6582</td>\n",
       "    </tr>\n",
       "    <tr>\n",
       "      <th>5</th>\n",
       "      <td>Japanese</td>\n",
       "      <td>6050</td>\n",
       "    </tr>\n",
       "  </tbody>\n",
       "</table>\n",
       "</div>"
      ],
      "text/plain": [
       "      index  Culture\n",
       "0  American    22585\n",
       "1    French    18220\n",
       "2     Japan    16493\n",
       "3     China    13851\n",
       "4   Italian     6582\n",
       "5  Japanese     6050"
      ]
     },
     "execution_count": 247,
     "metadata": {},
     "output_type": "execute_result"
    }
   ],
   "source": [
    "# first check countries that have the most items in this data set:\n",
    "raw.Culture.value_counts().reset_index().head(6)"
   ]
  },
  {
   "cell_type": "code",
   "execution_count": 251,
   "metadata": {},
   "outputs": [
    {
     "data": {
      "text/plain": [
       "['American', 'French', 'Japan', 'China', 'Italian']"
      ]
     },
     "execution_count": 251,
     "metadata": {},
     "output_type": "execute_result"
    }
   ],
   "source": [
    "# get the list of top 5 most frequent countries:\n",
    "most_frequent_cultures = list(raw.Culture.value_counts().reset_index().loc[0:4,\"index\"])\n",
    "most_frequent_cultures"
   ]
  },
  {
   "cell_type": "markdown",
   "metadata": {},
   "source": [
    "# So here we can see, Japan and Japanese are considered as two cultures, which is wrong.\n",
    "# we need to combine the same cultures that use different names (to be continued)"
   ]
  },
  {
   "cell_type": "code",
   "execution_count": 262,
   "metadata": {
    "collapsed": true
   },
   "outputs": [],
   "source": [
    "# get the list of top 5 most frequent Classifications\n",
    "most_frequent_classifications = list(raw.Classification.value_counts().reset_index().loc[1:5,\"index\"])\n",
    "# 注意这里要转换成为list, 否则的话, in 就无法使用"
   ]
  },
  {
   "cell_type": "code",
   "execution_count": 263,
   "metadata": {
    "collapsed": true
   },
   "outputs": [],
   "source": [
    "# pyplot 是没有办法直接对带有string的列进行统计频率并做出直方图的, 必须要先算好, 并生成相应的data frame才行\n",
    "# 那么就有了下面的几个任务\n",
    "\n",
    "# 1. 通过groupby对感兴趣的变量进行分组统计\n",
    "# 2. 只保留数值最高的前几个值:\n",
    "####### (1). 一种办法是先用value_counts()找\n",
    "####### (2). 另一种办法可能在groupby计算完毕后直接在生成的df里面找吧...\n",
    "# 试一下(2)"
   ]
  },
  {
   "cell_type": "code",
   "execution_count": 264,
   "metadata": {
    "collapsed": true
   },
   "outputs": [],
   "source": [
    "# create a df that only contains the columns we care about:\n",
    "culture_classification = raw.loc[:,[\"Culture\", \"Classification\"]]"
   ]
  },
  {
   "cell_type": "code",
   "execution_count": 287,
   "metadata": {},
   "outputs": [
    {
     "data": {
      "text/plain": [
       "Japan       21948\n",
       "China       13851\n",
       "French      10536\n",
       "American     8772\n",
       "Italian      5191\n",
       "Name: Culture, dtype: int64"
      ]
     },
     "execution_count": 287,
     "metadata": {},
     "output_type": "execute_result"
    }
   ],
   "source": [
    "culture_classification.Culture.value_counts().head(5)"
   ]
  },
  {
   "cell_type": "code",
   "execution_count": 285,
   "metadata": {
    "collapsed": true
   },
   "outputs": [],
   "source": [
    "culture_classification.dropna(inplace=\"True\")"
   ]
  },
  {
   "cell_type": "code",
   "execution_count": 296,
   "metadata": {},
   "outputs": [
    {
     "name": "stderr",
     "output_type": "stream",
     "text": [
      "/usr/local/lib/python2.7/site-packages/pandas/core/generic.py:2698: SettingWithCopyWarning: \n",
      "A value is trying to be set on a copy of a slice from a DataFrame.\n",
      "Try using .loc[row_indexer,col_indexer] = value instead\n",
      "\n",
      "See the caveats in the documentation: http://pandas.pydata.org/pandas-docs/stable/indexing.html#indexing-view-versus-copy\n",
      "  self[name] = value\n"
     ]
    }
   ],
   "source": [
    "# change all \"Japanese\" into \"Japan\"\n",
    "culture_classification.Culture = culture_classification.Culture.map(lambda x: \"Japan\"  if x==\"Japanese\" else x)\n",
    "# you must write else after if in lambda function!!!!!!!!\n",
    "# ref: https://stackoverflow.com/a/15772665/5861873"
   ]
  },
  {
   "cell_type": "code",
   "execution_count": 289,
   "metadata": {
    "collapsed": true
   },
   "outputs": [],
   "source": [
    "# keep only the most frequent countries\n",
    "culture_classification = culture_classification[culture_classification.Culture.isin(most_frequent_cultures)]"
   ]
  },
  {
   "cell_type": "code",
   "execution_count": null,
   "metadata": {
    "collapsed": true
   },
   "outputs": [],
   "source": [
    "# keep only the most frequent classification\n",
    "culture_classification = culture_classification[culture_classification.Classification.isin(most_frequent_classifications)]"
   ]
  },
  {
   "cell_type": "code",
   "execution_count": 290,
   "metadata": {},
   "outputs": [
    {
     "data": {
      "text/html": [
       "<div>\n",
       "<table border=\"1\" class=\"dataframe\">\n",
       "  <thead>\n",
       "    <tr style=\"text-align: right;\">\n",
       "      <th></th>\n",
       "      <th>Culture</th>\n",
       "      <th>Classification</th>\n",
       "    </tr>\n",
       "  </thead>\n",
       "  <tbody>\n",
       "    <tr>\n",
       "      <th>32</th>\n",
       "      <td>American</td>\n",
       "      <td>Glass</td>\n",
       "    </tr>\n",
       "    <tr>\n",
       "      <th>33</th>\n",
       "      <td>American</td>\n",
       "      <td>Furniture</td>\n",
       "    </tr>\n",
       "    <tr>\n",
       "      <th>34</th>\n",
       "      <td>American</td>\n",
       "      <td>Metal</td>\n",
       "    </tr>\n",
       "    <tr>\n",
       "      <th>35</th>\n",
       "      <td>American</td>\n",
       "      <td>Furniture</td>\n",
       "    </tr>\n",
       "    <tr>\n",
       "      <th>38</th>\n",
       "      <td>American</td>\n",
       "      <td>Natural Substances</td>\n",
       "    </tr>\n",
       "  </tbody>\n",
       "</table>\n",
       "</div>"
      ],
      "text/plain": [
       "     Culture      Classification\n",
       "32  American               Glass\n",
       "33  American           Furniture\n",
       "34  American               Metal\n",
       "35  American           Furniture\n",
       "38  American  Natural Substances"
      ]
     },
     "execution_count": 290,
     "metadata": {},
     "output_type": "execute_result"
    }
   ],
   "source": [
    "culture_classification.head(5)"
   ]
  },
  {
   "cell_type": "code",
   "execution_count": 291,
   "metadata": {},
   "outputs": [
    {
     "data": {
      "text/plain": [
       "Japan       21948\n",
       "China       13851\n",
       "French      10536\n",
       "American     8772\n",
       "Italian      5191\n",
       "Name: Culture, dtype: int64"
      ]
     },
     "execution_count": 291,
     "metadata": {},
     "output_type": "execute_result"
    }
   ],
   "source": [
    "culture_classification.Culture.value_counts()"
   ]
  },
  {
   "cell_type": "code",
   "execution_count": 292,
   "metadata": {
    "collapsed": true
   },
   "outputs": [],
   "source": [
    "df = culture_classification.groupby([\"Classification\",\"Culture\"]).size().unstack(0)\n",
    "df.fillna(0,inplace=True)"
   ]
  },
  {
   "cell_type": "code",
   "execution_count": 293,
   "metadata": {},
   "outputs": [
    {
     "data": {
      "text/html": [
       "<div>\n",
       "<table border=\"1\" class=\"dataframe\">\n",
       "  <thead>\n",
       "    <tr style=\"text-align: right;\">\n",
       "      <th>Classification</th>\n",
       "      <th>(not assigned)</th>\n",
       "      <th>Accessory</th>\n",
       "      <th>Accessory-Toys</th>\n",
       "      <th>Aerophone</th>\n",
       "      <th>Aerophone and Idiophone-flue blown / vessel rattle</th>\n",
       "      <th>Aerophone-Accessories</th>\n",
       "      <th>Aerophone-Automatic</th>\n",
       "      <th>Aerophone-Blow Hole-end-blown flute (vertical)</th>\n",
       "      <th>Aerophone-Blow Hole-nose flute</th>\n",
       "      <th>Aerophone-Blow Hole-panpipe</th>\n",
       "      <th>...</th>\n",
       "      <th>Woodwork-Furniture|Textiles-Velvets</th>\n",
       "      <th>Woodwork|Paintings</th>\n",
       "      <th>Woodwork|Paintings-Decorative</th>\n",
       "      <th>Works on Paper</th>\n",
       "      <th>Works on Paper-Drawings</th>\n",
       "      <th>Works on Paper-Engravings</th>\n",
       "      <th>Works on Paper-Miscellaneous</th>\n",
       "      <th>Works on Paper-Prints</th>\n",
       "      <th>|</th>\n",
       "      <th>||</th>\n",
       "    </tr>\n",
       "    <tr>\n",
       "      <th>Culture</th>\n",
       "      <th></th>\n",
       "      <th></th>\n",
       "      <th></th>\n",
       "      <th></th>\n",
       "      <th></th>\n",
       "      <th></th>\n",
       "      <th></th>\n",
       "      <th></th>\n",
       "      <th></th>\n",
       "      <th></th>\n",
       "      <th></th>\n",
       "      <th></th>\n",
       "      <th></th>\n",
       "      <th></th>\n",
       "      <th></th>\n",
       "      <th></th>\n",
       "      <th></th>\n",
       "      <th></th>\n",
       "      <th></th>\n",
       "      <th></th>\n",
       "      <th></th>\n",
       "    </tr>\n",
       "  </thead>\n",
       "  <tbody>\n",
       "    <tr>\n",
       "      <th>American</th>\n",
       "      <td>1.0</td>\n",
       "      <td>11.0</td>\n",
       "      <td>0.0</td>\n",
       "      <td>3.0</td>\n",
       "      <td>4.0</td>\n",
       "      <td>7.0</td>\n",
       "      <td>1.0</td>\n",
       "      <td>0.0</td>\n",
       "      <td>1.0</td>\n",
       "      <td>4.0</td>\n",
       "      <td>...</td>\n",
       "      <td>0.0</td>\n",
       "      <td>0.0</td>\n",
       "      <td>0.0</td>\n",
       "      <td>10.0</td>\n",
       "      <td>0.0</td>\n",
       "      <td>0.0</td>\n",
       "      <td>2.0</td>\n",
       "      <td>1.0</td>\n",
       "      <td>4.0</td>\n",
       "      <td>0.0</td>\n",
       "    </tr>\n",
       "    <tr>\n",
       "      <th>China</th>\n",
       "      <td>1.0</td>\n",
       "      <td>0.0</td>\n",
       "      <td>0.0</td>\n",
       "      <td>0.0</td>\n",
       "      <td>0.0</td>\n",
       "      <td>0.0</td>\n",
       "      <td>0.0</td>\n",
       "      <td>0.0</td>\n",
       "      <td>0.0</td>\n",
       "      <td>0.0</td>\n",
       "      <td>...</td>\n",
       "      <td>0.0</td>\n",
       "      <td>0.0</td>\n",
       "      <td>0.0</td>\n",
       "      <td>0.0</td>\n",
       "      <td>0.0</td>\n",
       "      <td>0.0</td>\n",
       "      <td>0.0</td>\n",
       "      <td>0.0</td>\n",
       "      <td>0.0</td>\n",
       "      <td>0.0</td>\n",
       "    </tr>\n",
       "    <tr>\n",
       "      <th>French</th>\n",
       "      <td>0.0</td>\n",
       "      <td>8.0</td>\n",
       "      <td>0.0</td>\n",
       "      <td>2.0</td>\n",
       "      <td>0.0</td>\n",
       "      <td>0.0</td>\n",
       "      <td>3.0</td>\n",
       "      <td>3.0</td>\n",
       "      <td>0.0</td>\n",
       "      <td>1.0</td>\n",
       "      <td>...</td>\n",
       "      <td>0.0</td>\n",
       "      <td>3.0</td>\n",
       "      <td>1.0</td>\n",
       "      <td>4.0</td>\n",
       "      <td>1.0</td>\n",
       "      <td>4.0</td>\n",
       "      <td>0.0</td>\n",
       "      <td>1.0</td>\n",
       "      <td>0.0</td>\n",
       "      <td>1.0</td>\n",
       "    </tr>\n",
       "    <tr>\n",
       "      <th>Italian</th>\n",
       "      <td>1.0</td>\n",
       "      <td>1.0</td>\n",
       "      <td>0.0</td>\n",
       "      <td>0.0</td>\n",
       "      <td>0.0</td>\n",
       "      <td>0.0</td>\n",
       "      <td>0.0</td>\n",
       "      <td>1.0</td>\n",
       "      <td>0.0</td>\n",
       "      <td>0.0</td>\n",
       "      <td>...</td>\n",
       "      <td>1.0</td>\n",
       "      <td>0.0</td>\n",
       "      <td>0.0</td>\n",
       "      <td>0.0</td>\n",
       "      <td>0.0</td>\n",
       "      <td>0.0</td>\n",
       "      <td>0.0</td>\n",
       "      <td>0.0</td>\n",
       "      <td>0.0</td>\n",
       "      <td>0.0</td>\n",
       "    </tr>\n",
       "    <tr>\n",
       "      <th>Japan</th>\n",
       "      <td>0.0</td>\n",
       "      <td>0.0</td>\n",
       "      <td>2.0</td>\n",
       "      <td>0.0</td>\n",
       "      <td>0.0</td>\n",
       "      <td>1.0</td>\n",
       "      <td>0.0</td>\n",
       "      <td>12.0</td>\n",
       "      <td>0.0</td>\n",
       "      <td>1.0</td>\n",
       "      <td>...</td>\n",
       "      <td>0.0</td>\n",
       "      <td>0.0</td>\n",
       "      <td>0.0</td>\n",
       "      <td>0.0</td>\n",
       "      <td>2.0</td>\n",
       "      <td>0.0</td>\n",
       "      <td>0.0</td>\n",
       "      <td>0.0</td>\n",
       "      <td>0.0</td>\n",
       "      <td>0.0</td>\n",
       "    </tr>\n",
       "  </tbody>\n",
       "</table>\n",
       "<p>5 rows × 435 columns</p>\n",
       "</div>"
      ],
      "text/plain": [
       "Classification  (not assigned)  Accessory  Accessory-Toys  Aerophone  \\\n",
       "Culture                                                                \n",
       "American                   1.0       11.0             0.0        3.0   \n",
       "China                      1.0        0.0             0.0        0.0   \n",
       "French                     0.0        8.0             0.0        2.0   \n",
       "Italian                    1.0        1.0             0.0        0.0   \n",
       "Japan                      0.0        0.0             2.0        0.0   \n",
       "\n",
       "Classification  Aerophone and Idiophone-flue blown / vessel rattle  \\\n",
       "Culture                                                              \n",
       "American                                                      4.0    \n",
       "China                                                         0.0    \n",
       "French                                                        0.0    \n",
       "Italian                                                       0.0    \n",
       "Japan                                                         0.0    \n",
       "\n",
       "Classification  Aerophone-Accessories  Aerophone-Automatic  \\\n",
       "Culture                                                      \n",
       "American                          7.0                  1.0   \n",
       "China                             0.0                  0.0   \n",
       "French                            0.0                  3.0   \n",
       "Italian                           0.0                  0.0   \n",
       "Japan                             1.0                  0.0   \n",
       "\n",
       "Classification  Aerophone-Blow Hole-end-blown flute (vertical)  \\\n",
       "Culture                                                          \n",
       "American                                                   0.0   \n",
       "China                                                      0.0   \n",
       "French                                                     3.0   \n",
       "Italian                                                    1.0   \n",
       "Japan                                                     12.0   \n",
       "\n",
       "Classification  Aerophone-Blow Hole-nose flute  Aerophone-Blow Hole-panpipe  \\\n",
       "Culture                                                                       \n",
       "American                                   1.0                          4.0   \n",
       "China                                      0.0                          0.0   \n",
       "French                                     0.0                          1.0   \n",
       "Italian                                    0.0                          0.0   \n",
       "Japan                                      0.0                          1.0   \n",
       "\n",
       "Classification ...   Woodwork-Furniture|Textiles-Velvets  Woodwork|Paintings  \\\n",
       "Culture        ...                                                             \n",
       "American       ...                                   0.0                 0.0   \n",
       "China          ...                                   0.0                 0.0   \n",
       "French         ...                                   0.0                 3.0   \n",
       "Italian        ...                                   1.0                 0.0   \n",
       "Japan          ...                                   0.0                 0.0   \n",
       "\n",
       "Classification  Woodwork|Paintings-Decorative  Works on Paper  \\\n",
       "Culture                                                         \n",
       "American                                  0.0            10.0   \n",
       "China                                     0.0             0.0   \n",
       "French                                    1.0             4.0   \n",
       "Italian                                   0.0             0.0   \n",
       "Japan                                     0.0             0.0   \n",
       "\n",
       "Classification  Works on Paper-Drawings  Works on Paper-Engravings  \\\n",
       "Culture                                                              \n",
       "American                            0.0                        0.0   \n",
       "China                               0.0                        0.0   \n",
       "French                              1.0                        4.0   \n",
       "Italian                             0.0                        0.0   \n",
       "Japan                               2.0                        0.0   \n",
       "\n",
       "Classification  Works on Paper-Miscellaneous  Works on Paper-Prints    |   ||  \n",
       "Culture                                                                        \n",
       "American                                 2.0                    1.0  4.0  0.0  \n",
       "China                                    0.0                    0.0  0.0  0.0  \n",
       "French                                   0.0                    1.0  0.0  1.0  \n",
       "Italian                                  0.0                    0.0  0.0  0.0  \n",
       "Japan                                    0.0                    0.0  0.0  0.0  \n",
       "\n",
       "[5 rows x 435 columns]"
      ]
     },
     "execution_count": 293,
     "metadata": {},
     "output_type": "execute_result"
    }
   ],
   "source": [
    "df"
   ]
  },
  {
   "cell_type": "markdown",
   "metadata": {},
   "source": [
    "# here we have our plot, the top 5 countries that have the most records in this data set.\n",
    "# within each country, we can see the number of items within each classification"
   ]
  },
  {
   "cell_type": "code",
   "execution_count": 294,
   "metadata": {},
   "outputs": [
    {
     "data": {
      "image/png": "[encoded data removed]",
      "text/plain": [
       "<matplotlib.figure.Figure at 0x13aa07790>"
      ]
     },
     "metadata": {},
     "output_type": "display_data"
    }
   ],
   "source": [
    "df.plot(kind='bar').legend_.remove()\n",
    "# remove legend: https://stackoverflow.com/a/26845924/5861873"
   ]
  },
  {
   "cell_type": "markdown",
   "metadata": {},
   "source": [
    "# We can see there are some very high numbers in Japan and China"
   ]
  },
  {
   "cell_type": "code",
   "execution_count": 231,
   "metadata": {},
   "outputs": [
    {
     "data": {
      "text/plain": [
       "'Ceramics'"
      ]
     },
     "execution_count": 231,
     "metadata": {},
     "output_type": "execute_result"
    }
   ],
   "source": [
    "df.loc[\"China\"].argmax()"
   ]
  },
  {
   "cell_type": "code",
   "execution_count": 233,
   "metadata": {},
   "outputs": [
    {
     "data": {
      "text/plain": [
       "3256.0"
      ]
     },
     "execution_count": 233,
     "metadata": {},
     "output_type": "execute_result"
    }
   ],
   "source": [
    "df.loc[\"China\", \"Ceramics\"]"
   ]
  },
  {
   "cell_type": "code",
   "execution_count": 232,
   "metadata": {},
   "outputs": [
    {
     "data": {
      "text/plain": [
       "'Prints'"
      ]
     },
     "execution_count": 232,
     "metadata": {},
     "output_type": "execute_result"
    }
   ],
   "source": [
    "df.loc[\"Japan\"].argmax()"
   ]
  },
  {
   "cell_type": "code",
   "execution_count": 234,
   "metadata": {},
   "outputs": [
    {
     "data": {
      "text/plain": [
       "4182.0"
      ]
     },
     "execution_count": 234,
     "metadata": {},
     "output_type": "execute_result"
    }
   ],
   "source": [
    "df.loc[\"Japan\", \"Prints\"]"
   ]
  },
  {
   "cell_type": "code",
   "execution_count": 300,
   "metadata": {},
   "outputs": [
    {
     "name": "stderr",
     "output_type": "stream",
     "text": [
      "/usr/local/lib/python2.7/site-packages/ipykernel_launcher.py:2: FutureWarning: order is deprecated, use sort_values(...)\n",
      "  \n"
     ]
    },
    {
     "data": {
      "text/plain": [
       "Classification\n",
       "Prints                           4184.0\n",
       "Textiles-Woven                   3513.0\n",
       "Ceramics                         2320.0\n",
       "Sword Furniture-Tsuba            1230.0\n",
       "Paintings                        1172.0\n",
       "Sword Furniture-Kozuka           1116.0\n",
       "Netsuke                           941.0\n",
       "Illustrated Books                 570.0\n",
       "Stencils                          569.0\n",
       "Sword Furniture-Fuchi-Kashira     569.0\n",
       "Name: Japan, dtype: float64"
      ]
     },
     "execution_count": 300,
     "metadata": {},
     "output_type": "execute_result"
    }
   ],
   "source": [
    "# Check out the number of each classifiction within the same culture: \n",
    "df.loc[\"Japan\"].order(ascending= False).head(10)"
   ]
  }
 ],
 "metadata": {
  "kernelspec": {
   "display_name": "Python 2",
   "language": "python",
   "name": "python2"
  },
  "language_info": {
   "codemirror_mode": {
    "name": "ipython",
    "version": 2
   },
   "file_extension": ".py",
   "mimetype": "text/x-python",
   "name": "python",
   "nbconvert_exporter": "python",
   "pygments_lexer": "ipython2",
   "version": "2.7.11"
  }
 },
 "nbformat": 4,
 "nbformat_minor": 2
}
